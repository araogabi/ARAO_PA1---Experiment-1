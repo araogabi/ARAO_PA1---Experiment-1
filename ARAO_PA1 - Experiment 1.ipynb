{
 "cells": [
  {
   "cell_type": "markdown",
   "id": "616eae67-85b4-4cbe-a5ac-ede82c79ef89",
   "metadata": {},
   "source": [
    "### EXPERIMENT 1: INTRODUCTION TO PYTHON PROGRAMMING"
   ]
  },
  {
   "cell_type": "markdown",
   "id": "928e1092-0cbd-4f4b-8842-941b2421cd37",
   "metadata": {},
   "source": [
    "##### ---------------------------------------------------------------------------------------------------------------------------\n",
    "\n",
    "##### Name: ARAO, Angeline Jeannah E.\n",
    "##### Year & Section: 2ECE-A\n",
    "\n",
    "##### ---------------------------------------------------------------------------------------------------------------------------"
   ]
  },
  {
   "cell_type": "markdown",
   "id": "d0da2a78-da25-418e-b88c-1f0e7d64fc5f",
   "metadata": {},
   "source": [
    "#### ALPHABET SOUP PROBLEM"
   ]
  },
  {
   "cell_type": "code",
   "execution_count": 11,
   "id": "3a84ca2d-e995-4320-ba45-46262a8aab93",
   "metadata": {},
   "outputs": [
    {
     "name": "stdin",
     "output_type": "stream",
     "text": [
      "Enter a word to be sorted alphabetically:  backgrounds\n"
     ]
    },
    {
     "data": {
      "text/plain": [
       "'abcdgknorsu'"
      ]
     },
     "execution_count": 11,
     "metadata": {},
     "output_type": "execute_result"
    }
   ],
   "source": [
    "def alphabet_soup(input_name):\n",
    "    input_name = sorted(input_name)\n",
    "    soup_name = \"\".join(input_name)\n",
    "    return soup_name\n",
    "\n",
    "input_name = input(\"Enter a word to be sorted alphabetically: \")\n",
    "\n",
    "alphabet_soup(input_name)"
   ]
  },
  {
   "cell_type": "markdown",
   "id": "65359a8a-a22c-435b-b88c-65e2f751e772",
   "metadata": {},
   "source": [
    "#### EMOTICON PROBLEM"
   ]
  },
  {
   "cell_type": "code",
   "execution_count": 25,
   "id": "805e5276-b5b2-40ee-8be5-3ab6c5831021",
   "metadata": {},
   "outputs": [
    {
     "name": "stdin",
     "output_type": "stream",
     "text": [
      "Enter a phrase or sentence to emotify:  Despite feeling sad and a bit mad, she managed to smile, hiding her emotions behind a forced grin.\n"
     ]
    },
    {
     "data": {
      "text/plain": [
       "'Despite feeling :(( and a bit >:(, she managed to :), hiding her emotions behind a forced :D.'"
      ]
     },
     "execution_count": 25,
     "metadata": {},
     "output_type": "execute_result"
    }
   ],
   "source": [
    "def emotify(name):\n",
    "    prompt = name.replace(\"smile\", \":)\")\n",
    "    prompt = prompt.replace(\"grin\", \":D\")\n",
    "    prompt = prompt.replace(\"sad\", \":((\")\n",
    "    prompt = prompt.replace(\"mad\", \">:(\")\n",
    "    return prompt\n",
    "\n",
    "string = input(\"Enter a phrase or sentence to emotify: \")\n",
    "\n",
    "emotify(string)"
   ]
  },
  {
   "cell_type": "markdown",
   "id": "4df19700-63f9-4b91-8a39-96dc27ab00c1",
   "metadata": {},
   "source": [
    "#### UNPACKING LIST PROBLEM"
   ]
  },
  {
   "cell_type": "code",
   "execution_count": 23,
   "id": "9339aec4-9b06-4656-9158-ac7123be5201",
   "metadata": {},
   "outputs": [
    {
     "name": "stdout",
     "output_type": "stream",
     "text": [
      "first: 1\n",
      "middle: [2, 3, 4, 5]\n",
      "last: 6\n"
     ]
    }
   ],
   "source": [
    "list = [1, 2, 3, 4, 5, 6]\n",
    "\n",
    "first, *middle, last = list\n",
    "\n",
    "print(\"first:\", first)\n",
    "print(\"middle:\", middle)\n",
    "print(\"last:\", last)"
   ]
  }
 ],
 "metadata": {
  "kernelspec": {
   "display_name": "Python 3 (ipykernel)",
   "language": "python",
   "name": "python3"
  },
  "language_info": {
   "codemirror_mode": {
    "name": "ipython",
    "version": 3
   },
   "file_extension": ".py",
   "mimetype": "text/x-python",
   "name": "python",
   "nbconvert_exporter": "python",
   "pygments_lexer": "ipython3",
   "version": "3.12.4"
  }
 },
 "nbformat": 4,
 "nbformat_minor": 5
}
